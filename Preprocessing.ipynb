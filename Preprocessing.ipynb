{
 "cells": [
  {
   "cell_type": "markdown",
   "metadata": {},
   "source": [
    "# Preprocessing the Data"
   ]
  },
  {
   "cell_type": "code",
   "execution_count": 38,
   "metadata": {},
   "outputs": [],
   "source": [
    "from pyspark.sql import SparkSession, functions as F\n",
    "\n",
    "# Create a spark session (which will run spark jobs)\n",
    "spark = (\n",
    "    SparkSession.builder.appName(\"ADS Project 1\")\n",
    "    .config(\"spark.sql.repl.eagerEval.enabled\", True) \n",
    "    .config(\"spark.sql.parquet.cacheMetadata\", \"true\")\n",
    "    .config(\"spark.sql.session.timeZone\", \"Etc/UTC\")\n",
    "    .getOrCreate()\n",
    ")"
   ]
  },
  {
   "cell_type": "markdown",
   "metadata": {},
   "source": [
    "### Reading in the Raw Layer for 2023 Yellow Taxi Trip Records "
   ]
  },
  {
   "cell_type": "code",
   "execution_count": 39,
   "metadata": {},
   "outputs": [],
   "source": [
    "sdf_yellow = spark.read.parquet('Raw/tlc_yellow_data/*')"
   ]
  },
  {
   "cell_type": "code",
   "execution_count": 40,
   "metadata": {},
   "outputs": [
    {
     "data": {
      "text/plain": [
       "38310226"
      ]
     },
     "execution_count": 40,
     "metadata": {},
     "output_type": "execute_result"
    }
   ],
   "source": [
    "sdf_yellow.count()"
   ]
  },
  {
   "cell_type": "markdown",
   "metadata": {},
   "source": [
    "### Filtering 2023 Trip Records for Yellow Taxis"
   ]
  },
  {
   "cell_type": "code",
   "execution_count": 41,
   "metadata": {},
   "outputs": [
    {
     "name": "stderr",
     "output_type": "stream",
     "text": [
      "                                                                                \r"
     ]
    },
    {
     "data": {
      "text/plain": [
       "33834153"
      ]
     },
     "execution_count": 41,
     "metadata": {},
     "output_type": "execute_result"
    }
   ],
   "source": [
    "# remove passenger count of less than or equal to 0\n",
    "sdf_yellow = sdf_yellow.filter(F.col('passenger_count') > 0)\n",
    "\n",
    "# remove trip distance that are less than 0.5 miles \n",
    "sdf_yellow = sdf_yellow.filter(F.col('trip_distance') > 0.5)\n",
    "\n",
    "sdf_yellow = sdf_yellow.filter(F.col('RateCodeID') <= 6)\n",
    "\n",
    "# 3 dollars initial charge effective 2022 December 19\n",
    "sdf_yellow = sdf_yellow.filter(F.col('fare_amount') > 3.00)\n",
    "\n",
    "sdf_yellow = sdf_yellow.filter(F.col('extra') >= 0.00)\n",
    "\n",
    "# MTA State Surcharge for all trips that end in NYC or Nassau\n",
    "sdf_yellow = sdf_yellow.filter((F.col('mta_tax') == 0.50) | (F.col('mta_tax') == 0.00))\n",
    "\n",
    "sdf_yellow = sdf_yellow.filter(F.col('tip_amount') >= 0.00)\n",
    "\n",
    "sdf_yellow = sdf_yellow.filter(F.col('tolls_amount') >= 0.00)\n",
    "\n",
    "# airport fee for pickups at LAGuardia and John F Kennedy Airports\n",
    "sdf_yellow = sdf_yellow.filter((F.col('airport_fee') == 1.25) | (F.col('airport_fee') == 0.00) | (F.col('airport_fee') == 1.75))\n",
    "\n",
    "# Congestion surchage is $2.50 for non shared trips for yellow taxicabs, or $0.75 for shared rides \n",
    "sdf_yellow = sdf_yellow.filter((F.col('congestion_surcharge') == 2.50) | (F.col('congestion_surcharge') == 0.00) | (F.col('congestion_surcharge') == 0.75))\n",
    "\n",
    "# Remove Store and Forward Flag and total amount\n",
    "sdf_yellow = sdf_yellow.drop('store_and_fwd_flag')\n",
    "sdf_yellow = sdf_yellow.drop('total_amount')\n",
    "\n",
    "sdf_yellow=sdf_yellow.withColumn('duration_seconds', F.unix_timestamp('tpep_dropoff_datetime') - F.unix_timestamp('tpep_pickup_datetime'))\n",
    "sdf_yellow = sdf_yellow.filter(F.col('duration_seconds') >= 60)\n",
    "\n",
    "# Removing rows with NANs\n",
    "sdf_yellow = sdf_yellow.dropna()\n",
    "\n",
    "sdf_yellow.count()\n"
   ]
  },
  {
   "cell_type": "code",
   "execution_count": 42,
   "metadata": {},
   "outputs": [
    {
     "name": "stderr",
     "output_type": "stream",
     "text": [
      "                                                                                \r"
     ]
    }
   ],
   "source": [
    "sdf_yellow \\\n",
    "    .coalesce(1) \\\n",
    "    .write \\\n",
    "    .mode('overwrite') \\\n",
    "    .parquet('Processed/tlc_yellow_data')"
   ]
  },
  {
   "cell_type": "markdown",
   "metadata": {},
   "source": [
    "### Applying the same filtering conditions to the 2024 Trip Records for Yellow Taxis"
   ]
  },
  {
   "cell_type": "code",
   "execution_count": 48,
   "metadata": {},
   "outputs": [],
   "source": [
    "sdf_yellow_24 = spark.read.parquet('2024_Raw/tlc_yellow_data/*')"
   ]
  },
  {
   "cell_type": "code",
   "execution_count": 49,
   "metadata": {},
   "outputs": [],
   "source": [
    "sdf_yellow_24 = sdf_yellow_24.withColumnRenamed(\"Airport_fee\", \"airport_fee\")"
   ]
  },
  {
   "cell_type": "code",
   "execution_count": 50,
   "metadata": {},
   "outputs": [
    {
     "data": {
      "text/plain": [
       "20332093"
      ]
     },
     "execution_count": 50,
     "metadata": {},
     "output_type": "execute_result"
    }
   ],
   "source": [
    "sdf_yellow_24.count()"
   ]
  },
  {
   "cell_type": "code",
   "execution_count": 51,
   "metadata": {},
   "outputs": [
    {
     "name": "stderr",
     "output_type": "stream",
     "text": [
      "                                                                                \r"
     ]
    },
    {
     "data": {
      "text/plain": [
       "16593051"
      ]
     },
     "execution_count": 51,
     "metadata": {},
     "output_type": "execute_result"
    }
   ],
   "source": [
    "\n",
    "# remove passenger count of less than or equal to 0\n",
    "sdf_yellow_24 = sdf_yellow_24.filter(F.col('passenger_count') > 0)\n",
    "\n",
    "# remove trip distance that are less than 0.5 miles \n",
    "sdf_yellow_24 = sdf_yellow_24.filter(F.col('trip_distance') > 0.5)\n",
    "\n",
    "sdf_yellow_24 = sdf_yellow_24.filter(F.col('RateCodeID') <= 6)\n",
    "\n",
    "# 3 dollars initial charge effective 2022 December 19\n",
    "sdf_yellow_24 = sdf_yellow_24.filter(F.col('fare_amount') > 3.00)\n",
    "\n",
    "sdf_yellow_24 = sdf_yellow_24.filter(F.col('extra') >= 0.00)\n",
    "\n",
    "# MTA State Surcharge for all trips that end in NYC or Nassau\n",
    "sdf_yellow_24 = sdf_yellow_24.filter((F.col('mta_tax') == 0.50) | (F.col('mta_tax') == 0.00))\n",
    "\n",
    "sdf_yellow_24 = sdf_yellow_24.filter(F.col('tip_amount') >= 0.00)\n",
    "\n",
    "sdf_yellow_24 = sdf_yellow_24.filter(F.col('tolls_amount') >= 0.00)\n",
    "\n",
    "# airport fee for pickups at LAGuardia and John F Kennedy Airports\n",
    "sdf_yellow_24 = sdf_yellow_24.filter((F.col('airport_fee') == 1.25) | (F.col('airport_fee') == 0.00) | (F.col('airport_fee') == 1.75))\n",
    "\n",
    "# Congestion surchage is $2.50 for non shared trips for yellow taxicabs, or $0.75 for shared rides \n",
    "sdf_yellow_24 = sdf_yellow_24.filter((F.col('congestion_surcharge') == 2.50) | (F.col('congestion_surcharge') == 0.00) | (F.col('congestion_surcharge') == 0.75))\n",
    "\n",
    "# Remove Store and Forward Flag and total amount\n",
    "sdf_yellow_24 = sdf_yellow_24.drop('store_and_fwd_flag')\n",
    "sdf_yellow_24 = sdf_yellow_24.drop('total_amount')\n",
    "\n",
    "sdf_yellow_24 = sdf_yellow_24.withColumn('duration_seconds', F.unix_timestamp('tpep_dropoff_datetime') - F.unix_timestamp('tpep_pickup_datetime'))\n",
    "sdf_yellow_24 = sdf_yellow_24.filter(F.col('duration_seconds') >= 60)\n",
    "\n",
    "# Removing rows with NANs\n",
    "sdf_yellow_24 = sdf_yellow_24.dropna()\n",
    "\n",
    "sdf_yellow_24.count()"
   ]
  },
  {
   "cell_type": "code",
   "execution_count": 52,
   "metadata": {},
   "outputs": [
    {
     "name": "stderr",
     "output_type": "stream",
     "text": [
      "                                                                                \r"
     ]
    }
   ],
   "source": [
    "sdf_yellow_24 \\\n",
    "    .coalesce(1) \\\n",
    "    .write \\\n",
    "    .mode('overwrite') \\\n",
    "    .parquet('2024_Processed/tlc_yellow_data')"
   ]
  }
 ],
 "metadata": {
  "kernelspec": {
   "display_name": "Python 3",
   "language": "python",
   "name": "python3"
  },
  "language_info": {
   "codemirror_mode": {
    "name": "ipython",
    "version": 3
   },
   "file_extension": ".py",
   "mimetype": "text/x-python",
   "name": "python",
   "nbconvert_exporter": "python",
   "pygments_lexer": "ipython3",
   "version": "3.10.12"
  }
 },
 "nbformat": 4,
 "nbformat_minor": 2
}
