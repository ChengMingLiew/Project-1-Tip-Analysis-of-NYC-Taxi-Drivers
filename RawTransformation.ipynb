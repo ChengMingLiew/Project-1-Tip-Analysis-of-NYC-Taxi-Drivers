{
 "cells": [
  {
   "cell_type": "markdown",
   "metadata": {
    "vscode": {
     "languageId": "bat"
    }
   },
   "source": [
    "# Transforming the Landing Layer to the Raw Layer"
   ]
  },
  {
   "cell_type": "code",
   "execution_count": 1,
   "metadata": {},
   "outputs": [
    {
     "name": "stderr",
     "output_type": "stream",
     "text": [
      "your 131072x1 screen size is bogus. expect trouble\n",
      "24/08/31 05:05:28 WARN Utils: Your hostname, LAPTOP-1A92TAQQ resolves to a loopback address: 127.0.1.1; using 172.18.166.45 instead (on interface eth0)\n",
      "24/08/31 05:05:28 WARN Utils: Set SPARK_LOCAL_IP if you need to bind to another address\n",
      "Setting default log level to \"WARN\".\n",
      "To adjust logging level use sc.setLogLevel(newLevel). For SparkR, use setLogLevel(newLevel).\n",
      "24/08/31 05:05:30 WARN NativeCodeLoader: Unable to load native-hadoop library for your platform... using builtin-java classes where applicable\n",
      "24/08/31 05:05:30 WARN Utils: Service 'SparkUI' could not bind on port 4040. Attempting port 4041.\n",
      "24/08/31 05:05:30 WARN Utils: Service 'SparkUI' could not bind on port 4041. Attempting port 4042.\n"
     ]
    }
   ],
   "source": [
    "from pyspark.sql import SparkSession, functions as F\n",
    "\n",
    "# Create a spark session (which will run spark jobs)\n",
    "spark = (\n",
    "    SparkSession.builder.appName(\"ADS Project 1\")\n",
    "    .config(\"spark.sql.repl.eagerEval.enabled\", True) \n",
    "    .config(\"spark.sql.parquet.cacheMetadata\", \"true\")\n",
    "    .config(\"spark.sql.session.timeZone\", \"Etc/UTC\")\n",
    "    .getOrCreate()\n",
    ")"
   ]
  },
  {
   "cell_type": "markdown",
   "metadata": {},
   "source": [
    "### Retrieving 2023 TLC Trip Records for Yellow Taxis"
   ]
  },
  {
   "cell_type": "code",
   "execution_count": 2,
   "metadata": {},
   "outputs": [],
   "source": [
    "# from urllib.request import urlretrieve\n",
    "import os\n",
    "\n",
    "output_relative_dir = 'Landing/'\n",
    "\n",
    "# check if it exists as it makedir will raise an error if it does exist\n",
    "if not os.path.exists(output_relative_dir):\n",
    "    os.makedirs(output_relative_dir)\n",
    "    \n",
    "# now, for each type of data set we will need, we will create the paths\n",
    "if not os.path.exists(output_relative_dir + 'tlc_yellow_data'):\n",
    "    os.makedirs(output_relative_dir + 'tlc_yellow_data')\n"
   ]
  },
  {
   "cell_type": "code",
   "execution_count": 3,
   "metadata": {},
   "outputs": [
    {
     "name": "stdout",
     "output_type": "stream",
     "text": [
      "Begin month 01\n",
      "Completed month 01\n",
      "Begin month 02\n",
      "Completed month 02\n",
      "Begin month 03\n",
      "Completed month 03\n",
      "Begin month 04\n",
      "Completed month 04\n",
      "Begin month 05\n",
      "Completed month 05\n",
      "Begin month 06\n",
      "Completed month 06\n",
      "Begin month 07\n",
      "Completed month 07\n",
      "Begin month 08\n",
      "Completed month 08\n",
      "Begin month 09\n",
      "Completed month 09\n",
      "Begin month 10\n",
      "Completed month 10\n",
      "Begin month 11\n",
      "Completed month 11\n",
      "Begin month 12\n",
      "Completed month 12\n"
     ]
    }
   ],
   "source": [
    "from urllib.request import urlretrieve\n",
    "\n",
    "# retrieve yellow and green taxi data for the year 2023\n",
    "YEAR = '2023'\n",
    "MONTHS = range(1, 13)\n",
    "\n",
    "URL_TEMPLATE = \"https://d37ci6vzurychx.cloudfront.net/trip-data/\"#year-month.parquet\n",
    "\n",
    "# data output directory is `data/tlc_data/`\n",
    "\n",
    "for month in MONTHS:\n",
    "    # 0-fill i.e 1 -> 01, 2 -> 02, etc\n",
    "    month = str(month).zfill(2) \n",
    "    print(f\"Begin month {month}\")\n",
    "    \n",
    "    # generate url\n",
    "    url = f'{URL_TEMPLATE}yellow_tripdata_{YEAR}-{month}.parquet'\n",
    "    # generate output location and filename\n",
    "    output_dir = f\"{output_relative_dir}tlc_yellow_data/{YEAR}-{month}.parquet\"\n",
    "    # download\n",
    "    urlretrieve(url, output_dir) \n",
    "    \n",
    "    print(f\"Completed month {month}\")"
   ]
  },
  {
   "cell_type": "markdown",
   "metadata": {},
   "source": [
    "### Fixing the Parquet for January 2023 Yellow Taxi Data"
   ]
  },
  {
   "cell_type": "code",
   "execution_count": 4,
   "metadata": {},
   "outputs": [
    {
     "name": "stderr",
     "output_type": "stream",
     "text": [
      "                                                                                \r"
     ]
    }
   ],
   "source": [
    "sdf_feb = spark.read.parquet('Landing/tlc_yellow_data/2023-02.parquet')\n",
    "\n",
    "consistent_col_casing = [F.col(col_name).alias(col_name.lower()) for col_name in sdf_feb.columns]\n",
    "sdf_feb = sdf_feb.select(*consistent_col_casing)\n",
    "\n",
    "# this will be used in the cell below when reading in\n",
    "sdf_schema = sdf_feb.schema"
   ]
  },
  {
   "cell_type": "code",
   "execution_count": 5,
   "metadata": {},
   "outputs": [],
   "source": [
    "sdf_malformed = spark.read.parquet('Landing/tlc_yellow_data/2023-01.parquet')\n",
    "\n",
    "# select all columns from the existing malformed dataframe and cast it to the required schema\n",
    "sdf_malformed = sdf_malformed \\\n",
    "    .select([F.col(c).cast(sdf_schema[i].dataType) for i, c in enumerate(sdf_malformed.columns)])"
   ]
  },
  {
   "cell_type": "code",
   "execution_count": 6,
   "metadata": {},
   "outputs": [
    {
     "name": "stderr",
     "output_type": "stream",
     "text": [
      "                                                                                \r"
     ]
    }
   ],
   "source": [
    "sdf_malformed \\\n",
    "    .coalesce(1) \\\n",
    "    .write \\\n",
    "    .mode('overwrite') \\\n",
    "    .parquet('Raw/tlc_yellow_data/2023-01')"
   ]
  },
  {
   "cell_type": "markdown",
   "metadata": {},
   "source": [
    "### Reading in all Yellow Taxi Data into a Folder"
   ]
  },
  {
   "cell_type": "code",
   "execution_count": 7,
   "metadata": {},
   "outputs": [
    {
     "name": "stderr",
     "output_type": "stream",
     "text": [
      "                                                                                \r"
     ]
    }
   ],
   "source": [
    "for month in range(2, 13):\n",
    "    input_path = f'Landing/tlc_yellow_data/2023-{str(month).zfill(2)}.parquet'\n",
    "    output_path = f'Raw/tlc_yellow_data/2023-{str(month).zfill(2)}'\n",
    "    \n",
    "    # read and write in one single statement, not great but it is what it is\n",
    "    # do not copy this, this is not best practice\n",
    "    sdf = spark \\\n",
    "        .read \\\n",
    "        .schema(sdf_schema) \\\n",
    "        .parquet(input_path) \\\n",
    "        .coalesce(1) \\\n",
    "        .write \\\n",
    "        .mode('overwrite') \\\n",
    "        .parquet(output_path)"
   ]
  },
  {
   "cell_type": "code",
   "execution_count": 8,
   "metadata": {},
   "outputs": [
    {
     "name": "stderr",
     "output_type": "stream",
     "text": [
      "                                                                                \r"
     ]
    },
    {
     "data": {
      "text/html": [
       "<table border='1'>\n",
       "<tr><th>vendorid</th><th>tpep_pickup_datetime</th><th>tpep_dropoff_datetime</th><th>passenger_count</th><th>trip_distance</th><th>ratecodeid</th><th>store_and_fwd_flag</th><th>pulocationid</th><th>dolocationid</th><th>payment_type</th><th>fare_amount</th><th>extra</th><th>mta_tax</th><th>tip_amount</th><th>tolls_amount</th><th>improvement_surcharge</th><th>total_amount</th><th>congestion_surcharge</th><th>airport_fee</th></tr>\n",
       "<tr><td>1</td><td>2023-05-01 00:33:13</td><td>2023-05-01 00:53:01</td><td>0</td><td>7.8</td><td>1</td><td>N</td><td>138</td><td>43</td><td>1</td><td>33.8</td><td>7.75</td><td>0.5</td><td>8.6</td><td>0.0</td><td>1.0</td><td>51.65</td><td>0.0</td><td>1.75</td></tr>\n",
       "<tr><td>1</td><td>2023-05-01 00:42:49</td><td>2023-05-01 01:11:18</td><td>2</td><td>8.1</td><td>1</td><td>N</td><td>138</td><td>262</td><td>1</td><td>35.9</td><td>10.25</td><td>0.5</td><td>9.5</td><td>0.0</td><td>1.0</td><td>57.15</td><td>2.5</td><td>1.75</td></tr>\n",
       "<tr><td>1</td><td>2023-05-01 00:56:34</td><td>2023-05-01 01:13:39</td><td>2</td><td>9.1</td><td>1</td><td>N</td><td>138</td><td>141</td><td>1</td><td>35.2</td><td>10.25</td><td>0.5</td><td>10.7</td><td>6.55</td><td>1.0</td><td>64.2</td><td>2.5</td><td>1.75</td></tr>\n",
       "<tr><td>2</td><td>2023-05-01 00:00:52</td><td>2023-05-01 00:20:12</td><td>1</td><td>8.21</td><td>1</td><td>N</td><td>138</td><td>140</td><td>1</td><td>33.1</td><td>6.0</td><td>0.5</td><td>2.24</td><td>0.0</td><td>1.0</td><td>47.09</td><td>2.5</td><td>1.75</td></tr>\n",
       "<tr><td>1</td><td>2023-05-01 00:05:50</td><td>2023-05-01 00:19:41</td><td>0</td><td>7.9</td><td>1</td><td>N</td><td>138</td><td>263</td><td>1</td><td>31.0</td><td>10.25</td><td>0.5</td><td>9.85</td><td>6.55</td><td>1.0</td><td>59.15</td><td>2.5</td><td>1.75</td></tr>\n",
       "</table>\n"
      ],
      "text/plain": [
       "+--------+--------------------+---------------------+---------------+-------------+----------+------------------+------------+------------+------------+-----------+-----+-------+----------+------------+---------------------+------------+--------------------+-----------+\n",
       "|vendorid|tpep_pickup_datetime|tpep_dropoff_datetime|passenger_count|trip_distance|ratecodeid|store_and_fwd_flag|pulocationid|dolocationid|payment_type|fare_amount|extra|mta_tax|tip_amount|tolls_amount|improvement_surcharge|total_amount|congestion_surcharge|airport_fee|\n",
       "+--------+--------------------+---------------------+---------------+-------------+----------+------------------+------------+------------+------------+-----------+-----+-------+----------+------------+---------------------+------------+--------------------+-----------+\n",
       "|       1| 2023-05-01 00:33:13|  2023-05-01 00:53:01|              0|          7.8|         1|                 N|         138|          43|           1|       33.8| 7.75|    0.5|       8.6|         0.0|                  1.0|       51.65|                 0.0|       1.75|\n",
       "|       1| 2023-05-01 00:42:49|  2023-05-01 01:11:18|              2|          8.1|         1|                 N|         138|         262|           1|       35.9|10.25|    0.5|       9.5|         0.0|                  1.0|       57.15|                 2.5|       1.75|\n",
       "|       1| 2023-05-01 00:56:34|  2023-05-01 01:13:39|              2|          9.1|         1|                 N|         138|         141|           1|       35.2|10.25|    0.5|      10.7|        6.55|                  1.0|        64.2|                 2.5|       1.75|\n",
       "|       2| 2023-05-01 00:00:52|  2023-05-01 00:20:12|              1|         8.21|         1|                 N|         138|         140|           1|       33.1|  6.0|    0.5|      2.24|         0.0|                  1.0|       47.09|                 2.5|       1.75|\n",
       "|       1| 2023-05-01 00:05:50|  2023-05-01 00:19:41|              0|          7.9|         1|                 N|         138|         263|           1|       31.0|10.25|    0.5|      9.85|        6.55|                  1.0|       59.15|                 2.5|       1.75|\n",
       "+--------+--------------------+---------------------+---------------+-------------+----------+------------------+------------+------------+------------+-----------+-----+-------+----------+------------+---------------------+------------+--------------------+-----------+"
      ]
     },
     "execution_count": 8,
     "metadata": {},
     "output_type": "execute_result"
    }
   ],
   "source": [
    "sdf_yellow = spark.read.schema(sdf_schema).parquet('Raw/tlc_yellow_data/*')\n",
    "sdf_yellow.limit(5)"
   ]
  },
  {
   "cell_type": "markdown",
   "metadata": {},
   "source": [
    "### Retrieving 2024 TLC Trip Records for Yellow Taxis"
   ]
  },
  {
   "cell_type": "code",
   "execution_count": 9,
   "metadata": {},
   "outputs": [],
   "source": [
    "# from urllib.request import urlretrieve\n",
    "import os\n",
    "\n",
    "output_relative_dir = '2024_Raw/'\n",
    "\n",
    "# check if it exists as it makedir will raise an error if it does exist\n",
    "if not os.path.exists(output_relative_dir):\n",
    "    os.makedirs(output_relative_dir)\n",
    "    \n",
    "# now, for each type of data set we will need, we will create the paths\n",
    "if not os.path.exists(output_relative_dir + 'tlc_yellow_data'):\n",
    "    os.makedirs(output_relative_dir + 'tlc_yellow_data')"
   ]
  },
  {
   "cell_type": "code",
   "execution_count": 10,
   "metadata": {},
   "outputs": [
    {
     "name": "stdout",
     "output_type": "stream",
     "text": [
      "Begin month 01\n",
      "Completed month 01\n",
      "Begin month 02\n",
      "Completed month 02\n",
      "Begin month 03\n",
      "Completed month 03\n",
      "Begin month 04\n",
      "Completed month 04\n",
      "Begin month 05\n",
      "Completed month 05\n",
      "Begin month 06\n",
      "Completed month 06\n"
     ]
    }
   ],
   "source": [
    "from urllib.request import urlretrieve\n",
    "\n",
    "# retrieve yellow and green taxi data for the year 2023\n",
    "YEAR = '2024'\n",
    "MONTHS = range(1, 7)\n",
    "\n",
    "URL_TEMPLATE = \"https://d37ci6vzurychx.cloudfront.net/trip-data/\"#year-month.parquet\n",
    "\n",
    "# data output directory is `data/tlc_data/`\n",
    "\n",
    "for month in MONTHS:\n",
    "    # 0-fill i.e 1 -> 01, 2 -> 02, etc\n",
    "    month = str(month).zfill(2) \n",
    "    print(f\"Begin month {month}\")\n",
    "    \n",
    "    # generate url\n",
    "    url = f'{URL_TEMPLATE}yellow_tripdata_{YEAR}-{month}.parquet'\n",
    "    # generate output location and filename\n",
    "    output_dir = f\"{output_relative_dir}tlc_yellow_data/{YEAR}-{month}.parquet\"\n",
    "    # download\n",
    "    urlretrieve(url, output_dir) \n",
    "    \n",
    "    print(f\"Completed month {month}\")"
   ]
  }
 ],
 "metadata": {
  "kernelspec": {
   "display_name": "Python 3",
   "language": "python",
   "name": "python3"
  },
  "language_info": {
   "codemirror_mode": {
    "name": "ipython",
    "version": 3
   },
   "file_extension": ".py",
   "mimetype": "text/x-python",
   "name": "python",
   "nbconvert_exporter": "python",
   "pygments_lexer": "ipython3",
   "version": "3.10.12"
  }
 },
 "nbformat": 4,
 "nbformat_minor": 2
}
